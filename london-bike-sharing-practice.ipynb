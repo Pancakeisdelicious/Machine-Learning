{
 "cells": [
  {
   "cell_type": "code",
   "execution_count": 1,
   "id": "bc6c60f7",
   "metadata": {
    "_cell_guid": "b1076dfc-b9ad-4769-8c92-a6c4dae69d19",
    "_uuid": "8f2839f25d086af736a60e9eeb907d3b93b6e0e5",
    "execution": {
     "iopub.execute_input": "2022-07-31T14:21:55.016207Z",
     "iopub.status.busy": "2022-07-31T14:21:55.015202Z",
     "iopub.status.idle": "2022-07-31T14:21:55.037598Z",
     "shell.execute_reply": "2022-07-31T14:21:55.036721Z"
    },
    "papermill": {
     "duration": 0.038292,
     "end_time": "2022-07-31T14:21:55.040786",
     "exception": false,
     "start_time": "2022-07-31T14:21:55.002494",
     "status": "completed"
    },
    "tags": []
   },
   "outputs": [
    {
     "name": "stdout",
     "output_type": "stream",
     "text": [
      "/kaggle/input/london-bike-sharing-dataset/london_merged.csv\n"
     ]
    }
   ],
   "source": [
    "# This Python 3 environment comes with many helpful analytics libraries installed\n",
    "# It is defined by the kaggle/python Docker image: https://github.com/kaggle/docker-python\n",
    "# For example, here's several helpful packages to load\n",
    "\n",
    "import numpy as np # linear algebra\n",
    "import pandas as pd # data processing, CSV file I/O (e.g. pd.read_csv)\n",
    "\n",
    "# Input data files are available in the read-only \"../input/\" directory\n",
    "# For example, running this (by clicking run or pressing Shift+Enter) will list all files under the input directory\n",
    "\n",
    "import os\n",
    "for dirname, _, filenames in os.walk('/kaggle/input'):\n",
    "    for filename in filenames:\n",
    "        print(os.path.join(dirname, filename))\n",
    "\n",
    "# You can write up to 20GB to the current directory (/kaggle/working/) that gets preserved as output when you create a version using \"Save & Run All\" \n",
    "# You can also write temporary files to /kaggle/temp/, but they won't be saved outside of the current session"
   ]
  },
  {
   "cell_type": "code",
   "execution_count": 2,
   "id": "138ac1c7",
   "metadata": {
    "execution": {
     "iopub.execute_input": "2022-07-31T14:21:55.061456Z",
     "iopub.status.busy": "2022-07-31T14:21:55.060762Z",
     "iopub.status.idle": "2022-07-31T14:21:56.141174Z",
     "shell.execute_reply": "2022-07-31T14:21:56.139885Z"
    },
    "papermill": {
     "duration": 1.093996,
     "end_time": "2022-07-31T14:21:56.144262",
     "exception": false,
     "start_time": "2022-07-31T14:21:55.050266",
     "status": "completed"
    },
    "tags": []
   },
   "outputs": [],
   "source": [
    "import matplotlib.pyplot as plt # 산점도 확인\n",
    "import seaborn as sns # 시각화 함수 패키지\n",
    "import missingno as msno # 결측치 확인"
   ]
  },
  {
   "cell_type": "code",
   "execution_count": 3,
   "id": "3b4d439d",
   "metadata": {
    "execution": {
     "iopub.execute_input": "2022-07-31T14:21:56.164050Z",
     "iopub.status.busy": "2022-07-31T14:21:56.163366Z",
     "iopub.status.idle": "2022-07-31T14:21:56.241211Z",
     "shell.execute_reply": "2022-07-31T14:21:56.240232Z"
    },
    "papermill": {
     "duration": 0.091088,
     "end_time": "2022-07-31T14:21:56.244462",
     "exception": false,
     "start_time": "2022-07-31T14:21:56.153374",
     "status": "completed"
    },
    "tags": []
   },
   "outputs": [
    {
     "data": {
      "text/html": [
       "<div>\n",
       "<style scoped>\n",
       "    .dataframe tbody tr th:only-of-type {\n",
       "        vertical-align: middle;\n",
       "    }\n",
       "\n",
       "    .dataframe tbody tr th {\n",
       "        vertical-align: top;\n",
       "    }\n",
       "\n",
       "    .dataframe thead th {\n",
       "        text-align: right;\n",
       "    }\n",
       "</style>\n",
       "<table border=\"1\" class=\"dataframe\">\n",
       "  <thead>\n",
       "    <tr style=\"text-align: right;\">\n",
       "      <th></th>\n",
       "      <th>timestamp</th>\n",
       "      <th>cnt</th>\n",
       "      <th>t1</th>\n",
       "      <th>t2</th>\n",
       "      <th>hum</th>\n",
       "      <th>wind_speed</th>\n",
       "      <th>weather_code</th>\n",
       "      <th>is_holiday</th>\n",
       "      <th>is_weekend</th>\n",
       "      <th>season</th>\n",
       "    </tr>\n",
       "  </thead>\n",
       "  <tbody>\n",
       "    <tr>\n",
       "      <th>0</th>\n",
       "      <td>2015-01-04 00:00:00</td>\n",
       "      <td>182</td>\n",
       "      <td>3.0</td>\n",
       "      <td>2.0</td>\n",
       "      <td>93.0</td>\n",
       "      <td>6.0</td>\n",
       "      <td>3.0</td>\n",
       "      <td>0.0</td>\n",
       "      <td>1.0</td>\n",
       "      <td>3.0</td>\n",
       "    </tr>\n",
       "    <tr>\n",
       "      <th>1</th>\n",
       "      <td>2015-01-04 01:00:00</td>\n",
       "      <td>138</td>\n",
       "      <td>3.0</td>\n",
       "      <td>2.5</td>\n",
       "      <td>93.0</td>\n",
       "      <td>5.0</td>\n",
       "      <td>1.0</td>\n",
       "      <td>0.0</td>\n",
       "      <td>1.0</td>\n",
       "      <td>3.0</td>\n",
       "    </tr>\n",
       "    <tr>\n",
       "      <th>2</th>\n",
       "      <td>2015-01-04 02:00:00</td>\n",
       "      <td>134</td>\n",
       "      <td>2.5</td>\n",
       "      <td>2.5</td>\n",
       "      <td>96.5</td>\n",
       "      <td>0.0</td>\n",
       "      <td>1.0</td>\n",
       "      <td>0.0</td>\n",
       "      <td>1.0</td>\n",
       "      <td>3.0</td>\n",
       "    </tr>\n",
       "    <tr>\n",
       "      <th>3</th>\n",
       "      <td>2015-01-04 03:00:00</td>\n",
       "      <td>72</td>\n",
       "      <td>2.0</td>\n",
       "      <td>2.0</td>\n",
       "      <td>100.0</td>\n",
       "      <td>0.0</td>\n",
       "      <td>1.0</td>\n",
       "      <td>0.0</td>\n",
       "      <td>1.0</td>\n",
       "      <td>3.0</td>\n",
       "    </tr>\n",
       "    <tr>\n",
       "      <th>4</th>\n",
       "      <td>2015-01-04 04:00:00</td>\n",
       "      <td>47</td>\n",
       "      <td>2.0</td>\n",
       "      <td>0.0</td>\n",
       "      <td>93.0</td>\n",
       "      <td>6.5</td>\n",
       "      <td>1.0</td>\n",
       "      <td>0.0</td>\n",
       "      <td>1.0</td>\n",
       "      <td>3.0</td>\n",
       "    </tr>\n",
       "  </tbody>\n",
       "</table>\n",
       "</div>"
      ],
      "text/plain": [
       "            timestamp  cnt   t1   t2    hum  wind_speed  weather_code  \\\n",
       "0 2015-01-04 00:00:00  182  3.0  2.0   93.0         6.0           3.0   \n",
       "1 2015-01-04 01:00:00  138  3.0  2.5   93.0         5.0           1.0   \n",
       "2 2015-01-04 02:00:00  134  2.5  2.5   96.5         0.0           1.0   \n",
       "3 2015-01-04 03:00:00   72  2.0  2.0  100.0         0.0           1.0   \n",
       "4 2015-01-04 04:00:00   47  2.0  0.0   93.0         6.5           1.0   \n",
       "\n",
       "   is_holiday  is_weekend  season  \n",
       "0         0.0         1.0     3.0  \n",
       "1         0.0         1.0     3.0  \n",
       "2         0.0         1.0     3.0  \n",
       "3         0.0         1.0     3.0  \n",
       "4         0.0         1.0     3.0  "
      ]
     },
     "execution_count": 3,
     "metadata": {},
     "output_type": "execute_result"
    }
   ],
   "source": [
    "df = pd.read_csv(\"/kaggle/input/london-bike-sharing-dataset/london_merged.csv\", parse_dates=['timestamp'])\n",
    "df.head()"
   ]
  },
  {
   "cell_type": "code",
   "execution_count": 4,
   "id": "bbce65ab",
   "metadata": {
    "execution": {
     "iopub.execute_input": "2022-07-31T14:21:56.264563Z",
     "iopub.status.busy": "2022-07-31T14:21:56.263879Z",
     "iopub.status.idle": "2022-07-31T14:21:56.271007Z",
     "shell.execute_reply": "2022-07-31T14:21:56.270240Z"
    },
    "papermill": {
     "duration": 0.019749,
     "end_time": "2022-07-31T14:21:56.273347",
     "exception": false,
     "start_time": "2022-07-31T14:21:56.253598",
     "status": "completed"
    },
    "tags": []
   },
   "outputs": [
    {
     "name": "stdout",
     "output_type": "stream",
     "text": [
      "(17414, 10)\n",
      "timestamp       datetime64[ns]\n",
      "cnt                      int64\n",
      "t1                     float64\n",
      "t2                     float64\n",
      "hum                    float64\n",
      "wind_speed             float64\n",
      "weather_code           float64\n",
      "is_holiday             float64\n",
      "is_weekend             float64\n",
      "season                 float64\n",
      "dtype: object\n",
      "Index(['timestamp', 'cnt', 't1', 't2', 'hum', 'wind_speed', 'weather_code',\n",
      "       'is_holiday', 'is_weekend', 'season'],\n",
      "      dtype='object')\n"
     ]
    }
   ],
   "source": [
    "# 데이터 타입, 구조\n",
    "\n",
    "print(df.shape) # 데이터 구조\n",
    "print(df.dtypes) # 데이터 타입\n",
    "print(df.columns) # 데이터 칼럼"
   ]
  },
  {
   "cell_type": "code",
   "execution_count": 5,
   "id": "0b162c57",
   "metadata": {
    "execution": {
     "iopub.execute_input": "2022-07-31T14:21:56.293797Z",
     "iopub.status.busy": "2022-07-31T14:21:56.293019Z",
     "iopub.status.idle": "2022-07-31T14:21:56.303326Z",
     "shell.execute_reply": "2022-07-31T14:21:56.302231Z"
    },
    "papermill": {
     "duration": 0.023418,
     "end_time": "2022-07-31T14:21:56.305858",
     "exception": false,
     "start_time": "2022-07-31T14:21:56.282440",
     "status": "completed"
    },
    "tags": []
   },
   "outputs": [
    {
     "data": {
      "text/plain": [
       "timestamp       0\n",
       "cnt             0\n",
       "t1              0\n",
       "t2              0\n",
       "hum             0\n",
       "wind_speed      0\n",
       "weather_code    0\n",
       "is_holiday      0\n",
       "is_weekend      0\n",
       "season          0\n",
       "dtype: int64"
      ]
     },
     "execution_count": 5,
     "metadata": {},
     "output_type": "execute_result"
    }
   ],
   "source": [
    "df.isna().sum() # 결측치"
   ]
  },
  {
   "cell_type": "code",
   "execution_count": 6,
   "id": "8bb7e854",
   "metadata": {
    "execution": {
     "iopub.execute_input": "2022-07-31T14:21:56.326599Z",
     "iopub.status.busy": "2022-07-31T14:21:56.326193Z",
     "iopub.status.idle": "2022-07-31T14:21:56.868830Z",
     "shell.execute_reply": "2022-07-31T14:21:56.867676Z"
    },
    "papermill": {
     "duration": 0.555999,
     "end_time": "2022-07-31T14:21:56.871506",
     "exception": false,
     "start_time": "2022-07-31T14:21:56.315507",
     "status": "completed"
    },
    "tags": []
   },
   "outputs": [
    {
     "data": {
      "image/png": "[encoded data removed]",
      "text/plain": [
       "<Figure size 1800x720 with 2 Axes>"
      ]
     },
     "metadata": {
      "needs_background": "light"
     },
     "output_type": "display_data"
    }
   ],
   "source": [
    "msno.matrix(df)\n",
    "plt.show()"
   ]
  },
  {
   "cell_type": "code",
   "execution_count": 7,
   "id": "883a2c92",
   "metadata": {
    "execution": {
     "iopub.execute_input": "2022-07-31T14:21:56.893635Z",
     "iopub.status.busy": "2022-07-31T14:21:56.892865Z",
     "iopub.status.idle": "2022-07-31T14:21:56.930726Z",
     "shell.execute_reply": "2022-07-31T14:21:56.929505Z"
    },
    "papermill": {
     "duration": 0.051883,
     "end_time": "2022-07-31T14:21:56.933302",
     "exception": false,
     "start_time": "2022-07-31T14:21:56.881419",
     "status": "completed"
    },
    "tags": []
   },
   "outputs": [
    {
     "data": {
      "text/html": [
       "<div>\n",
       "<style scoped>\n",
       "    .dataframe tbody tr th:only-of-type {\n",
       "        vertical-align: middle;\n",
       "    }\n",
       "\n",
       "    .dataframe tbody tr th {\n",
       "        vertical-align: top;\n",
       "    }\n",
       "\n",
       "    .dataframe thead th {\n",
       "        text-align: right;\n",
       "    }\n",
       "</style>\n",
       "<table border=\"1\" class=\"dataframe\">\n",
       "  <thead>\n",
       "    <tr style=\"text-align: right;\">\n",
       "      <th></th>\n",
       "      <th>timestamp</th>\n",
       "      <th>cnt</th>\n",
       "      <th>t1</th>\n",
       "      <th>t2</th>\n",
       "      <th>hum</th>\n",
       "      <th>wind_speed</th>\n",
       "      <th>weather_code</th>\n",
       "      <th>is_holiday</th>\n",
       "      <th>is_weekend</th>\n",
       "      <th>season</th>\n",
       "      <th>year</th>\n",
       "      <th>month</th>\n",
       "      <th>dayofweek</th>\n",
       "      <th>hour</th>\n",
       "    </tr>\n",
       "  </thead>\n",
       "  <tbody>\n",
       "    <tr>\n",
       "      <th>0</th>\n",
       "      <td>2015-01-04 00:00:00</td>\n",
       "      <td>182</td>\n",
       "      <td>3.0</td>\n",
       "      <td>2.0</td>\n",
       "      <td>93.0</td>\n",
       "      <td>6.0</td>\n",
       "      <td>3.0</td>\n",
       "      <td>0.0</td>\n",
       "      <td>1.0</td>\n",
       "      <td>3.0</td>\n",
       "      <td>2015</td>\n",
       "      <td>1</td>\n",
       "      <td>6</td>\n",
       "      <td>0</td>\n",
       "    </tr>\n",
       "    <tr>\n",
       "      <th>1</th>\n",
       "      <td>2015-01-04 01:00:00</td>\n",
       "      <td>138</td>\n",
       "      <td>3.0</td>\n",
       "      <td>2.5</td>\n",
       "      <td>93.0</td>\n",
       "      <td>5.0</td>\n",
       "      <td>1.0</td>\n",
       "      <td>0.0</td>\n",
       "      <td>1.0</td>\n",
       "      <td>3.0</td>\n",
       "      <td>2015</td>\n",
       "      <td>1</td>\n",
       "      <td>6</td>\n",
       "      <td>1</td>\n",
       "    </tr>\n",
       "    <tr>\n",
       "      <th>2</th>\n",
       "      <td>2015-01-04 02:00:00</td>\n",
       "      <td>134</td>\n",
       "      <td>2.5</td>\n",
       "      <td>2.5</td>\n",
       "      <td>96.5</td>\n",
       "      <td>0.0</td>\n",
       "      <td>1.0</td>\n",
       "      <td>0.0</td>\n",
       "      <td>1.0</td>\n",
       "      <td>3.0</td>\n",
       "      <td>2015</td>\n",
       "      <td>1</td>\n",
       "      <td>6</td>\n",
       "      <td>2</td>\n",
       "    </tr>\n",
       "    <tr>\n",
       "      <th>3</th>\n",
       "      <td>2015-01-04 03:00:00</td>\n",
       "      <td>72</td>\n",
       "      <td>2.0</td>\n",
       "      <td>2.0</td>\n",
       "      <td>100.0</td>\n",
       "      <td>0.0</td>\n",
       "      <td>1.0</td>\n",
       "      <td>0.0</td>\n",
       "      <td>1.0</td>\n",
       "      <td>3.0</td>\n",
       "      <td>2015</td>\n",
       "      <td>1</td>\n",
       "      <td>6</td>\n",
       "      <td>3</td>\n",
       "    </tr>\n",
       "    <tr>\n",
       "      <th>4</th>\n",
       "      <td>2015-01-04 04:00:00</td>\n",
       "      <td>47</td>\n",
       "      <td>2.0</td>\n",
       "      <td>0.0</td>\n",
       "      <td>93.0</td>\n",
       "      <td>6.5</td>\n",
       "      <td>1.0</td>\n",
       "      <td>0.0</td>\n",
       "      <td>1.0</td>\n",
       "      <td>3.0</td>\n",
       "      <td>2015</td>\n",
       "      <td>1</td>\n",
       "      <td>6</td>\n",
       "      <td>4</td>\n",
       "    </tr>\n",
       "  </tbody>\n",
       "</table>\n",
       "</div>"
      ],
      "text/plain": [
       "            timestamp  cnt   t1   t2    hum  wind_speed  weather_code  \\\n",
       "0 2015-01-04 00:00:00  182  3.0  2.0   93.0         6.0           3.0   \n",
       "1 2015-01-04 01:00:00  138  3.0  2.5   93.0         5.0           1.0   \n",
       "2 2015-01-04 02:00:00  134  2.5  2.5   96.5         0.0           1.0   \n",
       "3 2015-01-04 03:00:00   72  2.0  2.0  100.0         0.0           1.0   \n",
       "4 2015-01-04 04:00:00   47  2.0  0.0   93.0         6.5           1.0   \n",
       "\n",
       "   is_holiday  is_weekend  season  year  month  dayofweek  hour  \n",
       "0         0.0         1.0     3.0  2015      1          6     0  \n",
       "1         0.0         1.0     3.0  2015      1          6     1  \n",
       "2         0.0         1.0     3.0  2015      1          6     2  \n",
       "3         0.0         1.0     3.0  2015      1          6     3  \n",
       "4         0.0         1.0     3.0  2015      1          6     4  "
      ]
     },
     "execution_count": 7,
     "metadata": {},
     "output_type": "execute_result"
    }
   ],
   "source": [
    "df['year'] = df['timestamp'].dt.year\n",
    "df['month'] = df['timestamp'].dt.month\n",
    "df['dayofweek'] = df['timestamp'].dt.dayofweek\n",
    "df['hour'] = df['timestamp'].dt.hour\n",
    "df.head()"
   ]
  },
  {
   "cell_type": "code",
   "execution_count": 8,
   "id": "b3bc3aa5",
   "metadata": {
    "execution": {
     "iopub.execute_input": "2022-07-31T14:21:56.957656Z",
     "iopub.status.busy": "2022-07-31T14:21:56.956877Z",
     "iopub.status.idle": "2022-07-31T14:21:56.969088Z",
     "shell.execute_reply": "2022-07-31T14:21:56.968007Z"
    },
    "papermill": {
     "duration": 0.026714,
     "end_time": "2022-07-31T14:21:56.971304",
     "exception": false,
     "start_time": "2022-07-31T14:21:56.944590",
     "status": "completed"
    },
    "tags": []
   },
   "outputs": [
    {
     "data": {
      "text/plain": [
       "2016    8699\n",
       "2015    8643\n",
       "2017      72\n",
       "Name: year, dtype: int64"
      ]
     },
     "execution_count": 8,
     "metadata": {},
     "output_type": "execute_result"
    }
   ],
   "source": [
    "df['year'].value_counts() # 연도별 데이터 갯수"
   ]
  },
  {
   "cell_type": "code",
   "execution_count": 9,
   "id": "e0285ab8",
   "metadata": {
    "execution": {
     "iopub.execute_input": "2022-07-31T14:21:56.994170Z",
     "iopub.status.busy": "2022-07-31T14:21:56.993433Z",
     "iopub.status.idle": "2022-07-31T14:21:57.167920Z",
     "shell.execute_reply": "2022-07-31T14:21:57.167084Z"
    },
    "papermill": {
     "duration": 0.189374,
     "end_time": "2022-07-31T14:21:57.171036",
     "exception": false,
     "start_time": "2022-07-31T14:21:56.981662",
     "status": "completed"
    },
    "tags": []
   },
   "outputs": [
    {
     "name": "stderr",
     "output_type": "stream",
     "text": [
      "/opt/conda/lib/python3.7/site-packages/seaborn/_decorators.py:43: FutureWarning: Pass the following variables as keyword args: x, y. From version 0.12, the only valid positional argument will be `data`, and passing other arguments without an explicit keyword will result in an error or misinterpretation.\n",
      "  FutureWarning\n"
     ]
    },
    {
     "data": {
      "text/plain": [
       "<AxesSubplot:xlabel='year', ylabel='cnt'>"
      ]
     },
     "execution_count": 9,
     "metadata": {},
     "output_type": "execute_result"
    },
    {
     "data": {
      "image/png": "[encoded data removed]",
      "text/plain": [
       "<Figure size 720x360 with 1 Axes>"
      ]
     },
     "metadata": {
      "needs_background": "light"
     },
     "output_type": "display_data"
    }
   ],
   "source": [
    "a, b = plt.subplots(1,1,figsize=(10,5))\n",
    "sns.boxplot(df['year'],df['cnt']) # 년도별 이상치 확인"
   ]
  },
  {
   "cell_type": "code",
   "execution_count": 10,
   "id": "31772bce",
   "metadata": {
    "execution": {
     "iopub.execute_input": "2022-07-31T14:21:57.194570Z",
     "iopub.status.busy": "2022-07-31T14:21:57.193964Z",
     "iopub.status.idle": "2022-07-31T14:21:57.535986Z",
     "shell.execute_reply": "2022-07-31T14:21:57.534710Z"
    },
    "papermill": {
     "duration": 0.356777,
     "end_time": "2022-07-31T14:21:57.538706",
     "exception": false,
     "start_time": "2022-07-31T14:21:57.181929",
     "status": "completed"
    },
    "tags": []
   },
   "outputs": [
    {
     "name": "stderr",
     "output_type": "stream",
     "text": [
      "/opt/conda/lib/python3.7/site-packages/seaborn/_decorators.py:43: FutureWarning: Pass the following variables as keyword args: x, y. From version 0.12, the only valid positional argument will be `data`, and passing other arguments without an explicit keyword will result in an error or misinterpretation.\n",
      "  FutureWarning\n"
     ]
    },
    {
     "data": {
      "text/plain": [
       "<AxesSubplot:xlabel='month', ylabel='cnt'>"
      ]
     },
     "execution_count": 10,
     "metadata": {},
     "output_type": "execute_result"
    },
    {
     "data": {
      "image/png": "[encoded data removed]",
      "text/plain": [
       "<Figure size 720x360 with 1 Axes>"
      ]
     },
     "metadata": {
      "needs_background": "light"
     },
     "output_type": "display_data"
    }
   ],
   "source": [
    "a, b = plt.subplots(1,1,figsize=(10,5)) \n",
    "sns.boxplot(df['month'],df['cnt']) # 월별 이상치 확인"
   ]
  },
  {
   "cell_type": "code",
   "execution_count": 11,
   "id": "d6dac429",
   "metadata": {
    "execution": {
     "iopub.execute_input": "2022-07-31T14:21:57.563514Z",
     "iopub.status.busy": "2022-07-31T14:21:57.563149Z",
     "iopub.status.idle": "2022-07-31T14:21:57.838022Z",
     "shell.execute_reply": "2022-07-31T14:21:57.836967Z"
    },
    "papermill": {
     "duration": 0.290558,
     "end_time": "2022-07-31T14:21:57.841013",
     "exception": false,
     "start_time": "2022-07-31T14:21:57.550455",
     "status": "completed"
    },
    "tags": []
   },
   "outputs": [
    {
     "name": "stderr",
     "output_type": "stream",
     "text": [
      "/opt/conda/lib/python3.7/site-packages/seaborn/_decorators.py:43: FutureWarning: Pass the following variables as keyword args: x, y. From version 0.12, the only valid positional argument will be `data`, and passing other arguments without an explicit keyword will result in an error or misinterpretation.\n",
      "  FutureWarning\n"
     ]
    },
    {
     "data": {
      "text/plain": [
       "<AxesSubplot:xlabel='dayofweek', ylabel='cnt'>"
      ]
     },
     "execution_count": 11,
     "metadata": {},
     "output_type": "execute_result"
    },
    {
     "data": {
      "image/png": "[encoded data removed]",
      "text/plain": [
       "<Figure size 720x360 with 1 Axes>"
      ]
     },
     "metadata": {
      "needs_background": "light"
     },
     "output_type": "display_data"
    }
   ],
   "source": [
    "a, b = plt.subplots(1,1,figsize=(10,5)) \n",
    "sns.boxplot(df['dayofweek'],df['cnt']) # 주간별 이상치 확인"
   ]
  },
  {
   "cell_type": "code",
   "execution_count": 12,
   "id": "6f9f5c32",
   "metadata": {
    "execution": {
     "iopub.execute_input": "2022-07-31T14:21:57.866346Z",
     "iopub.status.busy": "2022-07-31T14:21:57.865708Z",
     "iopub.status.idle": "2022-07-31T14:21:58.383478Z",
     "shell.execute_reply": "2022-07-31T14:21:58.382353Z"
    },
    "papermill": {
     "duration": 0.533183,
     "end_time": "2022-07-31T14:21:58.386062",
     "exception": false,
     "start_time": "2022-07-31T14:21:57.852879",
     "status": "completed"
    },
    "tags": []
   },
   "outputs": [
    {
     "name": "stderr",
     "output_type": "stream",
     "text": [
      "/opt/conda/lib/python3.7/site-packages/seaborn/_decorators.py:43: FutureWarning: Pass the following variables as keyword args: x, y. From version 0.12, the only valid positional argument will be `data`, and passing other arguments without an explicit keyword will result in an error or misinterpretation.\n",
      "  FutureWarning\n"
     ]
    },
    {
     "data": {
      "text/plain": [
       "<AxesSubplot:xlabel='hour', ylabel='cnt'>"
      ]
     },
     "execution_count": 12,
     "metadata": {},
     "output_type": "execute_result"
    },
    {
     "data": {
      "image/png": "[encoded data removed]",
      "text/plain": [
       "<Figure size 720x360 with 1 Axes>"
      ]
     },
     "metadata": {
      "needs_background": "light"
     },
     "output_type": "display_data"
    }
   ],
   "source": [
    "a, b = plt.subplots(1,1,figsize=(10,5)) \n",
    "sns.boxplot(df['hour'],df['cnt']) # 시간별 이상치 확인"
   ]
  },
  {
   "cell_type": "code",
   "execution_count": 13,
   "id": "33e2b3f9",
   "metadata": {
    "execution": {
     "iopub.execute_input": "2022-07-31T14:21:58.412931Z",
     "iopub.status.busy": "2022-07-31T14:21:58.412535Z",
     "iopub.status.idle": "2022-07-31T14:21:58.418144Z",
     "shell.execute_reply": "2022-07-31T14:21:58.416926Z"
    },
    "papermill": {
     "duration": 0.021599,
     "end_time": "2022-07-31T14:21:58.420333",
     "exception": false,
     "start_time": "2022-07-31T14:21:58.398734",
     "status": "completed"
    },
    "tags": []
   },
   "outputs": [],
   "source": [
    "# 그래프 함수 만들기\n",
    "def plot_bar(data, feature):\n",
    "    fig = plt.figure(figsize = (12,3))\n",
    "    sns.barplot(x=feature, y='cnt', data=data, palette='Set3', orient ='v')\n",
    "    "
   ]
  },
  {
   "cell_type": "code",
   "execution_count": 14,
   "id": "15481833",
   "metadata": {
    "execution": {
     "iopub.execute_input": "2022-07-31T14:21:58.447393Z",
     "iopub.status.busy": "2022-07-31T14:21:58.446576Z",
     "iopub.status.idle": "2022-07-31T14:21:59.531725Z",
     "shell.execute_reply": "2022-07-31T14:21:59.530587Z"
    },
    "papermill": {
     "duration": 1.101274,
     "end_time": "2022-07-31T14:21:59.534205",
     "exception": false,
     "start_time": "2022-07-31T14:21:58.432931",
     "status": "completed"
    },
    "tags": []
   },
   "outputs": [
    {
     "data": {
      "image/png": "[encoded data removed]",
      "text/plain": [
       "<Figure size 864x216 with 1 Axes>"
      ]
     },
     "metadata": {
      "needs_background": "light"
     },
     "output_type": "display_data"
    }
   ],
   "source": [
    "plot_bar(df, 'hour')"
   ]
  },
  {
   "cell_type": "code",
   "execution_count": 15,
   "id": "e844a609",
   "metadata": {
    "execution": {
     "iopub.execute_input": "2022-07-31T14:21:59.561473Z",
     "iopub.status.busy": "2022-07-31T14:21:59.560415Z",
     "iopub.status.idle": "2022-07-31T14:22:00.122846Z",
     "shell.execute_reply": "2022-07-31T14:22:00.121996Z"
    },
    "papermill": {
     "duration": 0.578308,
     "end_time": "2022-07-31T14:22:00.125165",
     "exception": false,
     "start_time": "2022-07-31T14:21:59.546857",
     "status": "completed"
    },
    "tags": []
   },
   "outputs": [
    {
     "data": {
      "image/png": "[encoded data removed]",
      "text/plain": [
       "<Figure size 864x216 with 1 Axes>"
      ]
     },
     "metadata": {
      "needs_background": "light"
     },
     "output_type": "display_data"
    }
   ],
   "source": [
    "plot_bar(df, 'dayofweek')"
   ]
  },
  {
   "cell_type": "code",
   "execution_count": 16,
   "id": "c4e7fa13",
   "metadata": {
    "execution": {
     "iopub.execute_input": "2022-07-31T14:22:00.154542Z",
     "iopub.status.busy": "2022-07-31T14:22:00.153779Z",
     "iopub.status.idle": "2022-07-31T14:22:00.159765Z",
     "shell.execute_reply": "2022-07-31T14:22:00.158880Z"
    },
    "papermill": {
     "duration": 0.024059,
     "end_time": "2022-07-31T14:22:00.162466",
     "exception": false,
     "start_time": "2022-07-31T14:22:00.138407",
     "status": "completed"
    },
    "tags": []
   },
   "outputs": [],
   "source": [
    "# 시그마 이상치 제거\n",
    "def is_outliers(s):\n",
    "    lower_limit = s.mean() - (s.std()*3)\n",
    "    upper_limit = s.mean() + (s.std()*3)\n",
    "    return ~s.between(lower_limit, upper_limit)"
   ]
  },
  {
   "cell_type": "code",
   "execution_count": 17,
   "id": "c13685a0",
   "metadata": {
    "execution": {
     "iopub.execute_input": "2022-07-31T14:22:00.190315Z",
     "iopub.status.busy": "2022-07-31T14:22:00.189630Z",
     "iopub.status.idle": "2022-07-31T14:22:00.234202Z",
     "shell.execute_reply": "2022-07-31T14:22:00.232425Z"
    },
    "papermill": {
     "duration": 0.061636,
     "end_time": "2022-07-31T14:22:00.237069",
     "exception": false,
     "start_time": "2022-07-31T14:22:00.175433",
     "status": "completed"
    },
    "tags": []
   },
   "outputs": [
    {
     "name": "stdout",
     "output_type": "stream",
     "text": [
      "(17414, 14)\n",
      "(17265, 14)\n"
     ]
    },
    {
     "data": {
      "text/plain": [
       "timestamp       datetime64[ns]\n",
       "cnt                      int64\n",
       "t1                     float64\n",
       "t2                     float64\n",
       "hum                    float64\n",
       "wind_speed             float64\n",
       "weather_code           float64\n",
       "is_holiday             float64\n",
       "is_weekend             float64\n",
       "season                 float64\n",
       "year                     int64\n",
       "month                    int64\n",
       "dayofweek                int64\n",
       "hour                     int64\n",
       "dtype: object"
      ]
     },
     "execution_count": 17,
     "metadata": {},
     "output_type": "execute_result"
    }
   ],
   "source": [
    "df_out = df[~df.groupby('hour')['cnt'].apply(is_outliers)]\n",
    "\n",
    "print(df.shape) # 이상치 제거 전\n",
    "print(df_out.shape) # 이상치 제거 후\n",
    "\n",
    "df_out.dtypes"
   ]
  },
  {
   "cell_type": "code",
   "execution_count": 18,
   "id": "9e874854",
   "metadata": {
    "execution": {
     "iopub.execute_input": "2022-07-31T14:22:00.265067Z",
     "iopub.status.busy": "2022-07-31T14:22:00.264687Z",
     "iopub.status.idle": "2022-07-31T14:22:00.280056Z",
     "shell.execute_reply": "2022-07-31T14:22:00.278705Z"
    },
    "papermill": {
     "duration": 0.032585,
     "end_time": "2022-07-31T14:22:00.282911",
     "exception": false,
     "start_time": "2022-07-31T14:22:00.250326",
     "status": "completed"
    },
    "tags": []
   },
   "outputs": [
    {
     "name": "stderr",
     "output_type": "stream",
     "text": [
      "/opt/conda/lib/python3.7/site-packages/ipykernel_launcher.py:2: SettingWithCopyWarning: \n",
      "A value is trying to be set on a copy of a slice from a DataFrame.\n",
      "Try using .loc[row_indexer,col_indexer] = value instead\n",
      "\n",
      "See the caveats in the documentation: https://pandas.pydata.org/pandas-docs/stable/user_guide/indexing.html#returning-a-view-versus-a-copy\n",
      "  \n",
      "/opt/conda/lib/python3.7/site-packages/ipykernel_launcher.py:3: SettingWithCopyWarning: \n",
      "A value is trying to be set on a copy of a slice from a DataFrame.\n",
      "Try using .loc[row_indexer,col_indexer] = value instead\n",
      "\n",
      "See the caveats in the documentation: https://pandas.pydata.org/pandas-docs/stable/user_guide/indexing.html#returning-a-view-versus-a-copy\n",
      "  This is separate from the ipykernel package so we can avoid doing imports until\n",
      "/opt/conda/lib/python3.7/site-packages/ipykernel_launcher.py:4: SettingWithCopyWarning: \n",
      "A value is trying to be set on a copy of a slice from a DataFrame.\n",
      "Try using .loc[row_indexer,col_indexer] = value instead\n",
      "\n",
      "See the caveats in the documentation: https://pandas.pydata.org/pandas-docs/stable/user_guide/indexing.html#returning-a-view-versus-a-copy\n",
      "  after removing the cwd from sys.path.\n",
      "/opt/conda/lib/python3.7/site-packages/ipykernel_launcher.py:5: SettingWithCopyWarning: \n",
      "A value is trying to be set on a copy of a slice from a DataFrame.\n",
      "Try using .loc[row_indexer,col_indexer] = value instead\n",
      "\n",
      "See the caveats in the documentation: https://pandas.pydata.org/pandas-docs/stable/user_guide/indexing.html#returning-a-view-versus-a-copy\n",
      "  \"\"\"\n",
      "/opt/conda/lib/python3.7/site-packages/ipykernel_launcher.py:6: SettingWithCopyWarning: \n",
      "A value is trying to be set on a copy of a slice from a DataFrame.\n",
      "Try using .loc[row_indexer,col_indexer] = value instead\n",
      "\n",
      "See the caveats in the documentation: https://pandas.pydata.org/pandas-docs/stable/user_guide/indexing.html#returning-a-view-versus-a-copy\n",
      "  \n"
     ]
    }
   ],
   "source": [
    "# 타입 변환\n",
    "df_out['weather_code'] = df_out['weather_code'].astype('category')\n",
    "df_out['season'] = df_out['season'].astype('category')\n",
    "df_out['year'] = df_out['year'].astype('category')\n",
    "df_out['month'] = df_out['month'].astype('category')\n",
    "df_out['hour'] = df_out['hour'].astype('category')"
   ]
  },
  {
   "cell_type": "code",
   "execution_count": 19,
   "id": "c5a89d1e",
   "metadata": {
    "execution": {
     "iopub.execute_input": "2022-07-31T14:22:00.311382Z",
     "iopub.status.busy": "2022-07-31T14:22:00.310594Z",
     "iopub.status.idle": "2022-07-31T14:22:00.324860Z",
     "shell.execute_reply": "2022-07-31T14:22:00.323514Z"
    },
    "papermill": {
     "duration": 0.030923,
     "end_time": "2022-07-31T14:22:00.327129",
     "exception": false,
     "start_time": "2022-07-31T14:22:00.296206",
     "status": "completed"
    },
    "tags": []
   },
   "outputs": [
    {
     "name": "stderr",
     "output_type": "stream",
     "text": [
      "/opt/conda/lib/python3.7/site-packages/pandas/io/formats/format.py:1429: FutureWarning: Index.ravel returning ndarray is deprecated; in a future version this will return a view on self.\n",
      "  for val, m in zip(values.ravel(), mask.ravel())\n"
     ]
    },
    {
     "data": {
      "text/plain": [
       "0        3.0\n",
       "1        3.0\n",
       "2        3.0\n",
       "3        3.0\n",
       "4        3.0\n",
       "        ... \n",
       "17409    3.0\n",
       "17410    3.0\n",
       "17411    3.0\n",
       "17412    3.0\n",
       "17413    3.0\n",
       "Name: season, Length: 17265, dtype: category\n",
       "Categories (4, float64): [0.0, 1.0, 2.0, 3.0]"
      ]
     },
     "execution_count": 19,
     "metadata": {},
     "output_type": "execute_result"
    }
   ],
   "source": [
    "df_out['season']"
   ]
  },
  {
   "cell_type": "code",
   "execution_count": 20,
   "id": "b7898bee",
   "metadata": {
    "execution": {
     "iopub.execute_input": "2022-07-31T14:22:00.355893Z",
     "iopub.status.busy": "2022-07-31T14:22:00.355485Z",
     "iopub.status.idle": "2022-07-31T14:22:00.392452Z",
     "shell.execute_reply": "2022-07-31T14:22:00.391209Z"
    },
    "papermill": {
     "duration": 0.054224,
     "end_time": "2022-07-31T14:22:00.394970",
     "exception": false,
     "start_time": "2022-07-31T14:22:00.340746",
     "status": "completed"
    },
    "tags": []
   },
   "outputs": [
    {
     "data": {
      "text/html": [
       "<div>\n",
       "<style scoped>\n",
       "    .dataframe tbody tr th:only-of-type {\n",
       "        vertical-align: middle;\n",
       "    }\n",
       "\n",
       "    .dataframe tbody tr th {\n",
       "        vertical-align: top;\n",
       "    }\n",
       "\n",
       "    .dataframe thead th {\n",
       "        text-align: right;\n",
       "    }\n",
       "</style>\n",
       "<table border=\"1\" class=\"dataframe\">\n",
       "  <thead>\n",
       "    <tr style=\"text-align: right;\">\n",
       "      <th></th>\n",
       "      <th>timestamp</th>\n",
       "      <th>cnt</th>\n",
       "      <th>t1</th>\n",
       "      <th>t2</th>\n",
       "      <th>hum</th>\n",
       "      <th>wind_speed</th>\n",
       "      <th>is_holiday</th>\n",
       "      <th>is_weekend</th>\n",
       "      <th>dayofweek</th>\n",
       "      <th>weather_code_1.0</th>\n",
       "      <th>...</th>\n",
       "      <th>hour_14</th>\n",
       "      <th>hour_15</th>\n",
       "      <th>hour_16</th>\n",
       "      <th>hour_17</th>\n",
       "      <th>hour_18</th>\n",
       "      <th>hour_19</th>\n",
       "      <th>hour_20</th>\n",
       "      <th>hour_21</th>\n",
       "      <th>hour_22</th>\n",
       "      <th>hour_23</th>\n",
       "    </tr>\n",
       "  </thead>\n",
       "  <tbody>\n",
       "    <tr>\n",
       "      <th>0</th>\n",
       "      <td>2015-01-04 00:00:00</td>\n",
       "      <td>182</td>\n",
       "      <td>3.0</td>\n",
       "      <td>2.0</td>\n",
       "      <td>93.0</td>\n",
       "      <td>6.0</td>\n",
       "      <td>0.0</td>\n",
       "      <td>1.0</td>\n",
       "      <td>6</td>\n",
       "      <td>0</td>\n",
       "      <td>...</td>\n",
       "      <td>0</td>\n",
       "      <td>0</td>\n",
       "      <td>0</td>\n",
       "      <td>0</td>\n",
       "      <td>0</td>\n",
       "      <td>0</td>\n",
       "      <td>0</td>\n",
       "      <td>0</td>\n",
       "      <td>0</td>\n",
       "      <td>0</td>\n",
       "    </tr>\n",
       "    <tr>\n",
       "      <th>1</th>\n",
       "      <td>2015-01-04 01:00:00</td>\n",
       "      <td>138</td>\n",
       "      <td>3.0</td>\n",
       "      <td>2.5</td>\n",
       "      <td>93.0</td>\n",
       "      <td>5.0</td>\n",
       "      <td>0.0</td>\n",
       "      <td>1.0</td>\n",
       "      <td>6</td>\n",
       "      <td>1</td>\n",
       "      <td>...</td>\n",
       "      <td>0</td>\n",
       "      <td>0</td>\n",
       "      <td>0</td>\n",
       "      <td>0</td>\n",
       "      <td>0</td>\n",
       "      <td>0</td>\n",
       "      <td>0</td>\n",
       "      <td>0</td>\n",
       "      <td>0</td>\n",
       "      <td>0</td>\n",
       "    </tr>\n",
       "    <tr>\n",
       "      <th>2</th>\n",
       "      <td>2015-01-04 02:00:00</td>\n",
       "      <td>134</td>\n",
       "      <td>2.5</td>\n",
       "      <td>2.5</td>\n",
       "      <td>96.5</td>\n",
       "      <td>0.0</td>\n",
       "      <td>0.0</td>\n",
       "      <td>1.0</td>\n",
       "      <td>6</td>\n",
       "      <td>1</td>\n",
       "      <td>...</td>\n",
       "      <td>0</td>\n",
       "      <td>0</td>\n",
       "      <td>0</td>\n",
       "      <td>0</td>\n",
       "      <td>0</td>\n",
       "      <td>0</td>\n",
       "      <td>0</td>\n",
       "      <td>0</td>\n",
       "      <td>0</td>\n",
       "      <td>0</td>\n",
       "    </tr>\n",
       "    <tr>\n",
       "      <th>3</th>\n",
       "      <td>2015-01-04 03:00:00</td>\n",
       "      <td>72</td>\n",
       "      <td>2.0</td>\n",
       "      <td>2.0</td>\n",
       "      <td>100.0</td>\n",
       "      <td>0.0</td>\n",
       "      <td>0.0</td>\n",
       "      <td>1.0</td>\n",
       "      <td>6</td>\n",
       "      <td>1</td>\n",
       "      <td>...</td>\n",
       "      <td>0</td>\n",
       "      <td>0</td>\n",
       "      <td>0</td>\n",
       "      <td>0</td>\n",
       "      <td>0</td>\n",
       "      <td>0</td>\n",
       "      <td>0</td>\n",
       "      <td>0</td>\n",
       "      <td>0</td>\n",
       "      <td>0</td>\n",
       "    </tr>\n",
       "    <tr>\n",
       "      <th>4</th>\n",
       "      <td>2015-01-04 04:00:00</td>\n",
       "      <td>47</td>\n",
       "      <td>2.0</td>\n",
       "      <td>0.0</td>\n",
       "      <td>93.0</td>\n",
       "      <td>6.5</td>\n",
       "      <td>0.0</td>\n",
       "      <td>1.0</td>\n",
       "      <td>6</td>\n",
       "      <td>1</td>\n",
       "      <td>...</td>\n",
       "      <td>0</td>\n",
       "      <td>0</td>\n",
       "      <td>0</td>\n",
       "      <td>0</td>\n",
       "      <td>0</td>\n",
       "      <td>0</td>\n",
       "      <td>0</td>\n",
       "      <td>0</td>\n",
       "      <td>0</td>\n",
       "      <td>0</td>\n",
       "    </tr>\n",
       "  </tbody>\n",
       "</table>\n",
       "<p>5 rows × 59 columns</p>\n",
       "</div>"
      ],
      "text/plain": [
       "            timestamp  cnt   t1   t2    hum  wind_speed  is_holiday  \\\n",
       "0 2015-01-04 00:00:00  182  3.0  2.0   93.0         6.0         0.0   \n",
       "1 2015-01-04 01:00:00  138  3.0  2.5   93.0         5.0         0.0   \n",
       "2 2015-01-04 02:00:00  134  2.5  2.5   96.5         0.0         0.0   \n",
       "3 2015-01-04 03:00:00   72  2.0  2.0  100.0         0.0         0.0   \n",
       "4 2015-01-04 04:00:00   47  2.0  0.0   93.0         6.5         0.0   \n",
       "\n",
       "   is_weekend  dayofweek  weather_code_1.0  ...  hour_14  hour_15  hour_16  \\\n",
       "0         1.0          6                 0  ...        0        0        0   \n",
       "1         1.0          6                 1  ...        0        0        0   \n",
       "2         1.0          6                 1  ...        0        0        0   \n",
       "3         1.0          6                 1  ...        0        0        0   \n",
       "4         1.0          6                 1  ...        0        0        0   \n",
       "\n",
       "   hour_17  hour_18  hour_19  hour_20  hour_21  hour_22  hour_23  \n",
       "0        0        0        0        0        0        0        0  \n",
       "1        0        0        0        0        0        0        0  \n",
       "2        0        0        0        0        0        0        0  \n",
       "3        0        0        0        0        0        0        0  \n",
       "4        0        0        0        0        0        0        0  \n",
       "\n",
       "[5 rows x 59 columns]"
      ]
     },
     "execution_count": 20,
     "metadata": {},
     "output_type": "execute_result"
    }
   ],
   "source": [
    "df_out = pd.get_dummies(df_out, columns=['weather_code', 'season', 'year', 'month', 'hour'])\n",
    "df_out.head()"
   ]
  },
  {
   "cell_type": "code",
   "execution_count": 21,
   "id": "91813d31",
   "metadata": {
    "execution": {
     "iopub.execute_input": "2022-07-31T14:22:00.424241Z",
     "iopub.status.busy": "2022-07-31T14:22:00.423848Z",
     "iopub.status.idle": "2022-07-31T14:22:00.451295Z",
     "shell.execute_reply": "2022-07-31T14:22:00.450226Z"
    },
    "papermill": {
     "duration": 0.044984,
     "end_time": "2022-07-31T14:22:00.453780",
     "exception": false,
     "start_time": "2022-07-31T14:22:00.408796",
     "status": "completed"
    },
    "tags": []
   },
   "outputs": [
    {
     "data": {
      "text/html": [
       "<div>\n",
       "<style scoped>\n",
       "    .dataframe tbody tr th:only-of-type {\n",
       "        vertical-align: middle;\n",
       "    }\n",
       "\n",
       "    .dataframe tbody tr th {\n",
       "        vertical-align: top;\n",
       "    }\n",
       "\n",
       "    .dataframe thead th {\n",
       "        text-align: right;\n",
       "    }\n",
       "</style>\n",
       "<table border=\"1\" class=\"dataframe\">\n",
       "  <thead>\n",
       "    <tr style=\"text-align: right;\">\n",
       "      <th></th>\n",
       "      <th>t1</th>\n",
       "      <th>t2</th>\n",
       "      <th>hum</th>\n",
       "      <th>wind_speed</th>\n",
       "      <th>is_holiday</th>\n",
       "      <th>is_weekend</th>\n",
       "      <th>dayofweek</th>\n",
       "      <th>weather_code_1.0</th>\n",
       "      <th>weather_code_2.0</th>\n",
       "      <th>weather_code_3.0</th>\n",
       "      <th>...</th>\n",
       "      <th>hour_14</th>\n",
       "      <th>hour_15</th>\n",
       "      <th>hour_16</th>\n",
       "      <th>hour_17</th>\n",
       "      <th>hour_18</th>\n",
       "      <th>hour_19</th>\n",
       "      <th>hour_20</th>\n",
       "      <th>hour_21</th>\n",
       "      <th>hour_22</th>\n",
       "      <th>hour_23</th>\n",
       "    </tr>\n",
       "  </thead>\n",
       "  <tbody>\n",
       "    <tr>\n",
       "      <th>0</th>\n",
       "      <td>3.0</td>\n",
       "      <td>2.0</td>\n",
       "      <td>93.0</td>\n",
       "      <td>6.0</td>\n",
       "      <td>0.0</td>\n",
       "      <td>1.0</td>\n",
       "      <td>6</td>\n",
       "      <td>0</td>\n",
       "      <td>0</td>\n",
       "      <td>1</td>\n",
       "      <td>...</td>\n",
       "      <td>0</td>\n",
       "      <td>0</td>\n",
       "      <td>0</td>\n",
       "      <td>0</td>\n",
       "      <td>0</td>\n",
       "      <td>0</td>\n",
       "      <td>0</td>\n",
       "      <td>0</td>\n",
       "      <td>0</td>\n",
       "      <td>0</td>\n",
       "    </tr>\n",
       "    <tr>\n",
       "      <th>1</th>\n",
       "      <td>3.0</td>\n",
       "      <td>2.5</td>\n",
       "      <td>93.0</td>\n",
       "      <td>5.0</td>\n",
       "      <td>0.0</td>\n",
       "      <td>1.0</td>\n",
       "      <td>6</td>\n",
       "      <td>1</td>\n",
       "      <td>0</td>\n",
       "      <td>0</td>\n",
       "      <td>...</td>\n",
       "      <td>0</td>\n",
       "      <td>0</td>\n",
       "      <td>0</td>\n",
       "      <td>0</td>\n",
       "      <td>0</td>\n",
       "      <td>0</td>\n",
       "      <td>0</td>\n",
       "      <td>0</td>\n",
       "      <td>0</td>\n",
       "      <td>0</td>\n",
       "    </tr>\n",
       "    <tr>\n",
       "      <th>2</th>\n",
       "      <td>2.5</td>\n",
       "      <td>2.5</td>\n",
       "      <td>96.5</td>\n",
       "      <td>0.0</td>\n",
       "      <td>0.0</td>\n",
       "      <td>1.0</td>\n",
       "      <td>6</td>\n",
       "      <td>1</td>\n",
       "      <td>0</td>\n",
       "      <td>0</td>\n",
       "      <td>...</td>\n",
       "      <td>0</td>\n",
       "      <td>0</td>\n",
       "      <td>0</td>\n",
       "      <td>0</td>\n",
       "      <td>0</td>\n",
       "      <td>0</td>\n",
       "      <td>0</td>\n",
       "      <td>0</td>\n",
       "      <td>0</td>\n",
       "      <td>0</td>\n",
       "    </tr>\n",
       "    <tr>\n",
       "      <th>3</th>\n",
       "      <td>2.0</td>\n",
       "      <td>2.0</td>\n",
       "      <td>100.0</td>\n",
       "      <td>0.0</td>\n",
       "      <td>0.0</td>\n",
       "      <td>1.0</td>\n",
       "      <td>6</td>\n",
       "      <td>1</td>\n",
       "      <td>0</td>\n",
       "      <td>0</td>\n",
       "      <td>...</td>\n",
       "      <td>0</td>\n",
       "      <td>0</td>\n",
       "      <td>0</td>\n",
       "      <td>0</td>\n",
       "      <td>0</td>\n",
       "      <td>0</td>\n",
       "      <td>0</td>\n",
       "      <td>0</td>\n",
       "      <td>0</td>\n",
       "      <td>0</td>\n",
       "    </tr>\n",
       "    <tr>\n",
       "      <th>4</th>\n",
       "      <td>2.0</td>\n",
       "      <td>0.0</td>\n",
       "      <td>93.0</td>\n",
       "      <td>6.5</td>\n",
       "      <td>0.0</td>\n",
       "      <td>1.0</td>\n",
       "      <td>6</td>\n",
       "      <td>1</td>\n",
       "      <td>0</td>\n",
       "      <td>0</td>\n",
       "      <td>...</td>\n",
       "      <td>0</td>\n",
       "      <td>0</td>\n",
       "      <td>0</td>\n",
       "      <td>0</td>\n",
       "      <td>0</td>\n",
       "      <td>0</td>\n",
       "      <td>0</td>\n",
       "      <td>0</td>\n",
       "      <td>0</td>\n",
       "      <td>0</td>\n",
       "    </tr>\n",
       "  </tbody>\n",
       "</table>\n",
       "<p>5 rows × 57 columns</p>\n",
       "</div>"
      ],
      "text/plain": [
       "    t1   t2    hum  wind_speed  is_holiday  is_weekend  dayofweek  \\\n",
       "0  3.0  2.0   93.0         6.0         0.0         1.0          6   \n",
       "1  3.0  2.5   93.0         5.0         0.0         1.0          6   \n",
       "2  2.5  2.5   96.5         0.0         0.0         1.0          6   \n",
       "3  2.0  2.0  100.0         0.0         0.0         1.0          6   \n",
       "4  2.0  0.0   93.0         6.5         0.0         1.0          6   \n",
       "\n",
       "   weather_code_1.0  weather_code_2.0  weather_code_3.0  ...  hour_14  \\\n",
       "0                 0                 0                 1  ...        0   \n",
       "1                 1                 0                 0  ...        0   \n",
       "2                 1                 0                 0  ...        0   \n",
       "3                 1                 0                 0  ...        0   \n",
       "4                 1                 0                 0  ...        0   \n",
       "\n",
       "   hour_15  hour_16  hour_17  hour_18  hour_19  hour_20  hour_21  hour_22  \\\n",
       "0        0        0        0        0        0        0        0        0   \n",
       "1        0        0        0        0        0        0        0        0   \n",
       "2        0        0        0        0        0        0        0        0   \n",
       "3        0        0        0        0        0        0        0        0   \n",
       "4        0        0        0        0        0        0        0        0   \n",
       "\n",
       "   hour_23  \n",
       "0        0  \n",
       "1        0  \n",
       "2        0  \n",
       "3        0  \n",
       "4        0  \n",
       "\n",
       "[5 rows x 57 columns]"
      ]
     },
     "execution_count": 21,
     "metadata": {},
     "output_type": "execute_result"
    }
   ],
   "source": [
    "df_x = df_out.drop(['timestamp', 'cnt'], axis=1)\n",
    "df_y = df_out['cnt']\n",
    "df_x.head()\n"
   ]
  },
  {
   "cell_type": "code",
   "execution_count": 22,
   "id": "5cf766ef",
   "metadata": {
    "execution": {
     "iopub.execute_input": "2022-07-31T14:22:00.483547Z",
     "iopub.status.busy": "2022-07-31T14:22:00.483153Z",
     "iopub.status.idle": "2022-07-31T14:22:00.821914Z",
     "shell.execute_reply": "2022-07-31T14:22:00.820701Z"
    },
    "papermill": {
     "duration": 0.356653,
     "end_time": "2022-07-31T14:22:00.824494",
     "exception": false,
     "start_time": "2022-07-31T14:22:00.467841",
     "status": "completed"
    },
    "tags": []
   },
   "outputs": [],
   "source": [
    "# 훈련, 테스트 데이터 셋 분리\n",
    "# 데이터 전처리\n",
    "\n",
    "from sklearn.model_selection import train_test_split\n",
    "x_train, x_test, y_train, y_test = train_test_split(df_x, df_y, random_state=66, test_size=0.3, shuffle=False)"
   ]
  },
  {
   "cell_type": "code",
   "execution_count": 23,
   "id": "6c13c9a7",
   "metadata": {
    "execution": {
     "iopub.execute_input": "2022-07-31T14:22:00.853810Z",
     "iopub.status.busy": "2022-07-31T14:22:00.853368Z",
     "iopub.status.idle": "2022-07-31T14:22:00.859751Z",
     "shell.execute_reply": "2022-07-31T14:22:00.858556Z"
    },
    "papermill": {
     "duration": 0.024197,
     "end_time": "2022-07-31T14:22:00.862610",
     "exception": false,
     "start_time": "2022-07-31T14:22:00.838413",
     "status": "completed"
    },
    "tags": []
   },
   "outputs": [
    {
     "name": "stdout",
     "output_type": "stream",
     "text": [
      "x_train의 구조 : (12085, 57)\n",
      "y_train의 구조 : (12085,)\n",
      "x_test의 구조 : (5180, 57)\n",
      "y_test의 구조 : (5180,)\n"
     ]
    }
   ],
   "source": [
    "print(\"x_train의 구조 :\" ,x_train.shape)\n",
    "print(\"y_train의 구조 :\" ,y_train.shape)\n",
    "\n",
    "print(\"x_test의 구조 :\" ,x_test.shape)\n",
    "print(\"y_test의 구조 :\" ,y_test.shape)"
   ]
  },
  {
   "cell_type": "code",
   "execution_count": 24,
   "id": "13f03a5c",
   "metadata": {
    "execution": {
     "iopub.execute_input": "2022-07-31T14:22:00.892542Z",
     "iopub.status.busy": "2022-07-31T14:22:00.892116Z",
     "iopub.status.idle": "2022-07-31T14:22:06.451229Z",
     "shell.execute_reply": "2022-07-31T14:22:06.450386Z"
    },
    "papermill": {
     "duration": 5.576952,
     "end_time": "2022-07-31T14:22:06.453747",
     "exception": false,
     "start_time": "2022-07-31T14:22:00.876795",
     "status": "completed"
    },
    "tags": []
   },
   "outputs": [],
   "source": [
    "import keras\n",
    "from keras.models import Sequential\n",
    "from keras.layers import Dense\n",
    "from keras.callbacks import EarlyStopping"
   ]
  },
  {
   "cell_type": "code",
   "execution_count": 25,
   "id": "8e547f70",
   "metadata": {
    "execution": {
     "iopub.execute_input": "2022-07-31T14:22:06.486526Z",
     "iopub.status.busy": "2022-07-31T14:22:06.485515Z",
     "iopub.status.idle": "2022-07-31T14:22:06.607253Z",
     "shell.execute_reply": "2022-07-31T14:22:06.606072Z"
    },
    "papermill": {
     "duration": 0.142399,
     "end_time": "2022-07-31T14:22:06.610150",
     "exception": false,
     "start_time": "2022-07-31T14:22:06.467751",
     "status": "completed"
    },
    "tags": []
   },
   "outputs": [
    {
     "name": "stderr",
     "output_type": "stream",
     "text": [
      "2022-07-31 14:22:06.520140: I tensorflow/core/common_runtime/process_util.cc:146] Creating new thread pool with default inter op setting: 2. Tune using inter_op_parallelism_threads for best performance.\n"
     ]
    }
   ],
   "source": [
    "model = Sequential()\n",
    "model.add(Dense(units=160, activation='relu', input_dim=57))\n",
    "model.add(Dense(units=60, activation='relu'))\n",
    "model.add(Dense(units=20, activation='relu'))\n",
    "model.add(Dense(units=1, activation='linear'))"
   ]
  },
  {
   "cell_type": "code",
   "execution_count": 26,
   "id": "35fdb25e",
   "metadata": {
    "execution": {
     "iopub.execute_input": "2022-07-31T14:22:06.641155Z",
     "iopub.status.busy": "2022-07-31T14:22:06.639982Z",
     "iopub.status.idle": "2022-07-31T14:22:06.647114Z",
     "shell.execute_reply": "2022-07-31T14:22:06.645558Z"
    },
    "papermill": {
     "duration": 0.025296,
     "end_time": "2022-07-31T14:22:06.649518",
     "exception": false,
     "start_time": "2022-07-31T14:22:06.624222",
     "status": "completed"
    },
    "tags": []
   },
   "outputs": [
    {
     "name": "stdout",
     "output_type": "stream",
     "text": [
      "Model: \"sequential\"\n",
      "_________________________________________________________________\n",
      "Layer (type)                 Output Shape              Param #   \n",
      "=================================================================\n",
      "dense (Dense)                (None, 160)               9280      \n",
      "_________________________________________________________________\n",
      "dense_1 (Dense)              (None, 60)                9660      \n",
      "_________________________________________________________________\n",
      "dense_2 (Dense)              (None, 20)                1220      \n",
      "_________________________________________________________________\n",
      "dense_3 (Dense)              (None, 1)                 21        \n",
      "=================================================================\n",
      "Total params: 20,181\n",
      "Trainable params: 20,181\n",
      "Non-trainable params: 0\n",
      "_________________________________________________________________\n"
     ]
    }
   ],
   "source": [
    "model.summary()"
   ]
  },
  {
   "cell_type": "code",
   "execution_count": 27,
   "id": "600bc62d",
   "metadata": {
    "execution": {
     "iopub.execute_input": "2022-07-31T14:22:06.679910Z",
     "iopub.status.busy": "2022-07-31T14:22:06.679201Z",
     "iopub.status.idle": "2022-07-31T14:38:33.806102Z",
     "shell.execute_reply": "2022-07-31T14:38:33.804971Z"
    },
    "papermill": {
     "duration": 987.145549,
     "end_time": "2022-07-31T14:38:33.809087",
     "exception": false,
     "start_time": "2022-07-31T14:22:06.663538",
     "status": "completed"
    },
    "tags": []
   },
   "outputs": [
    {
     "name": "stderr",
     "output_type": "stream",
     "text": [
      "2022-07-31 14:22:06.786185: I tensorflow/compiler/mlir/mlir_graph_optimization_pass.cc:185] None of the MLIR Optimization Passes are enabled (registered 2)\n"
     ]
    },
    {
     "name": "stdout",
     "output_type": "stream",
     "text": [
      "Epoch 1/50\n",
      "10876/10876 [==============================] - 19s 2ms/step - loss: 516.1984 - mae: 516.1984 - val_loss: 424.6312 - val_mae: 424.6312\n",
      "Epoch 2/50\n",
      "10876/10876 [==============================] - 19s 2ms/step - loss: 307.3004 - mae: 307.3004 - val_loss: 273.1367 - val_mae: 273.1367\n",
      "Epoch 3/50\n",
      "10876/10876 [==============================] - 18s 2ms/step - loss: 234.4624 - mae: 234.4624 - val_loss: 217.6190 - val_mae: 217.6190\n",
      "Epoch 4/50\n",
      "10876/10876 [==============================] - 19s 2ms/step - loss: 208.4014 - mae: 208.4014 - val_loss: 204.8246 - val_mae: 204.8246\n",
      "Epoch 5/50\n",
      "10876/10876 [==============================] - 19s 2ms/step - loss: 186.3883 - mae: 186.3883 - val_loss: 214.1927 - val_mae: 214.1927\n",
      "Epoch 6/50\n",
      "10876/10876 [==============================] - 20s 2ms/step - loss: 170.0335 - mae: 170.0335 - val_loss: 169.6455 - val_mae: 169.6455\n",
      "Epoch 7/50\n",
      "10876/10876 [==============================] - 19s 2ms/step - loss: 161.3640 - mae: 161.3640 - val_loss: 184.3251 - val_mae: 184.3251\n",
      "Epoch 8/50\n",
      "10876/10876 [==============================] - 19s 2ms/step - loss: 154.6312 - mae: 154.6312 - val_loss: 170.2160 - val_mae: 170.2160\n",
      "Epoch 9/50\n",
      "10876/10876 [==============================] - 20s 2ms/step - loss: 152.1206 - mae: 152.1206 - val_loss: 163.8428 - val_mae: 163.8428\n",
      "Epoch 10/50\n",
      "10876/10876 [==============================] - 21s 2ms/step - loss: 147.6097 - mae: 147.6097 - val_loss: 171.2575 - val_mae: 171.2575\n",
      "Epoch 11/50\n",
      "10876/10876 [==============================] - 20s 2ms/step - loss: 145.6118 - mae: 145.6118 - val_loss: 149.0613 - val_mae: 149.0613\n",
      "Epoch 12/50\n",
      "10876/10876 [==============================] - 19s 2ms/step - loss: 143.5338 - mae: 143.5338 - val_loss: 170.9406 - val_mae: 170.9406\n",
      "Epoch 13/50\n",
      "10876/10876 [==============================] - 19s 2ms/step - loss: 142.1900 - mae: 142.1900 - val_loss: 160.4299 - val_mae: 160.4299\n",
      "Epoch 14/50\n",
      "10876/10876 [==============================] - 20s 2ms/step - loss: 139.5930 - mae: 139.5930 - val_loss: 145.6250 - val_mae: 145.6250\n",
      "Epoch 15/50\n",
      "10876/10876 [==============================] - 20s 2ms/step - loss: 137.1340 - mae: 137.1340 - val_loss: 145.6322 - val_mae: 145.6322\n",
      "Epoch 16/50\n",
      "10876/10876 [==============================] - 20s 2ms/step - loss: 136.9460 - mae: 136.9460 - val_loss: 145.1320 - val_mae: 145.1320\n",
      "Epoch 17/50\n",
      "10876/10876 [==============================] - 20s 2ms/step - loss: 135.3889 - mae: 135.3889 - val_loss: 165.8369 - val_mae: 165.8369\n",
      "Epoch 18/50\n",
      "10876/10876 [==============================] - 19s 2ms/step - loss: 133.9421 - mae: 133.9421 - val_loss: 145.0557 - val_mae: 145.0557\n",
      "Epoch 19/50\n",
      "10876/10876 [==============================] - 19s 2ms/step - loss: 132.1942 - mae: 132.1942 - val_loss: 176.1599 - val_mae: 176.1599\n",
      "Epoch 20/50\n",
      "10876/10876 [==============================] - 20s 2ms/step - loss: 130.7165 - mae: 130.7165 - val_loss: 208.5735 - val_mae: 208.5735\n",
      "Epoch 21/50\n",
      "10876/10876 [==============================] - 21s 2ms/step - loss: 129.4365 - mae: 129.4365 - val_loss: 167.4815 - val_mae: 167.4815\n",
      "Epoch 22/50\n",
      "10876/10876 [==============================] - 22s 2ms/step - loss: 128.7950 - mae: 128.7950 - val_loss: 138.6210 - val_mae: 138.6210\n",
      "Epoch 23/50\n",
      "10876/10876 [==============================] - 20s 2ms/step - loss: 127.7222 - mae: 127.7222 - val_loss: 154.0226 - val_mae: 154.0226\n",
      "Epoch 24/50\n",
      "10876/10876 [==============================] - 20s 2ms/step - loss: 126.8011 - mae: 126.8011 - val_loss: 139.0772 - val_mae: 139.0772\n",
      "Epoch 25/50\n",
      "10876/10876 [==============================] - 21s 2ms/step - loss: 126.1731 - mae: 126.1731 - val_loss: 143.3819 - val_mae: 143.3819\n",
      "Epoch 26/50\n",
      "10876/10876 [==============================] - 20s 2ms/step - loss: 124.9706 - mae: 124.9706 - val_loss: 184.7418 - val_mae: 184.7418\n",
      "Epoch 27/50\n",
      "10876/10876 [==============================] - 20s 2ms/step - loss: 125.0484 - mae: 125.0484 - val_loss: 135.8732 - val_mae: 135.8732\n",
      "Epoch 28/50\n",
      "10876/10876 [==============================] - 20s 2ms/step - loss: 124.1241 - mae: 124.1241 - val_loss: 163.9516 - val_mae: 163.9516\n",
      "Epoch 29/50\n",
      "10876/10876 [==============================] - 20s 2ms/step - loss: 123.3359 - mae: 123.3359 - val_loss: 188.8273 - val_mae: 188.8273\n",
      "Epoch 30/50\n",
      "10876/10876 [==============================] - 21s 2ms/step - loss: 122.6638 - mae: 122.6638 - val_loss: 140.8922 - val_mae: 140.8922\n",
      "Epoch 31/50\n",
      "10876/10876 [==============================] - 20s 2ms/step - loss: 121.4857 - mae: 121.4857 - val_loss: 150.9816 - val_mae: 150.9816\n",
      "Epoch 32/50\n",
      "10876/10876 [==============================] - 21s 2ms/step - loss: 120.7911 - mae: 120.7911 - val_loss: 176.0226 - val_mae: 176.0226\n",
      "Epoch 33/50\n",
      "10876/10876 [==============================] - 20s 2ms/step - loss: 120.7466 - mae: 120.7466 - val_loss: 199.2306 - val_mae: 199.2306\n",
      "Epoch 34/50\n",
      "10876/10876 [==============================] - 20s 2ms/step - loss: 121.0808 - mae: 121.0808 - val_loss: 170.8647 - val_mae: 170.8647\n",
      "Epoch 35/50\n",
      "10876/10876 [==============================] - 20s 2ms/step - loss: 119.1550 - mae: 119.1550 - val_loss: 164.0835 - val_mae: 164.0835\n",
      "Epoch 36/50\n",
      "10876/10876 [==============================] - 19s 2ms/step - loss: 119.0892 - mae: 119.0892 - val_loss: 159.4886 - val_mae: 159.4886\n",
      "Epoch 37/50\n",
      "10876/10876 [==============================] - 21s 2ms/step - loss: 119.8193 - mae: 119.8193 - val_loss: 159.3872 - val_mae: 159.3872\n",
      "Epoch 38/50\n",
      "10876/10876 [==============================] - 20s 2ms/step - loss: 118.6518 - mae: 118.6518 - val_loss: 140.7197 - val_mae: 140.7197\n",
      "Epoch 39/50\n",
      "10876/10876 [==============================] - 19s 2ms/step - loss: 117.2134 - mae: 117.2134 - val_loss: 158.1889 - val_mae: 158.1889\n",
      "Epoch 40/50\n",
      "10876/10876 [==============================] - 20s 2ms/step - loss: 116.3355 - mae: 116.3355 - val_loss: 157.5018 - val_mae: 157.5018\n",
      "Epoch 41/50\n",
      "10876/10876 [==============================] - 19s 2ms/step - loss: 116.0641 - mae: 116.0641 - val_loss: 153.4172 - val_mae: 153.4172\n",
      "Epoch 42/50\n",
      "10876/10876 [==============================] - 19s 2ms/step - loss: 115.6877 - mae: 115.6877 - val_loss: 148.8368 - val_mae: 148.8368\n",
      "Epoch 43/50\n",
      "10876/10876 [==============================] - 19s 2ms/step - loss: 115.4891 - mae: 115.4891 - val_loss: 150.4413 - val_mae: 150.4413\n",
      "Epoch 44/50\n",
      "10876/10876 [==============================] - 19s 2ms/step - loss: 115.4886 - mae: 115.4886 - val_loss: 140.8499 - val_mae: 140.8499\n",
      "Epoch 45/50\n",
      "10876/10876 [==============================] - 19s 2ms/step - loss: 115.0550 - mae: 115.0550 - val_loss: 153.0053 - val_mae: 153.0053\n",
      "Epoch 46/50\n",
      "10876/10876 [==============================] - 19s 2ms/step - loss: 114.8329 - mae: 114.8329 - val_loss: 140.0323 - val_mae: 140.0323\n",
      "Epoch 47/50\n",
      "10876/10876 [==============================] - 19s 2ms/step - loss: 114.0168 - mae: 114.0168 - val_loss: 157.1854 - val_mae: 157.1854\n",
      "Epoch 48/50\n",
      "10876/10876 [==============================] - 19s 2ms/step - loss: 113.6972 - mae: 113.6972 - val_loss: 142.2311 - val_mae: 142.2311\n",
      "Epoch 49/50\n",
      "10876/10876 [==============================] - 19s 2ms/step - loss: 112.9390 - mae: 112.9390 - val_loss: 148.9093 - val_mae: 148.9093\n",
      "Epoch 50/50\n",
      "10876/10876 [==============================] - 19s 2ms/step - loss: 113.2753 - mae: 113.2753 - val_loss: 168.3699 - val_mae: 168.3699\n"
     ]
    }
   ],
   "source": [
    "model.compile(loss = 'mae', optimizer = 'adam', metrics = ['mae'])\n",
    "early_stopping = EarlyStopping(monitor = 'loss', patience = 5, mode = 'min')\n",
    "history = model.fit(x_train, y_train, epochs = 50, batch_size = 1, validation_split = 0.1, callbacks = [early_stopping]) # epochs(전체 데이터 n번 학습), validation_split(검증용 데이터)"
   ]
  },
  {
   "cell_type": "code",
   "execution_count": 28,
   "id": "8f99ae1b",
   "metadata": {
    "execution": {
     "iopub.execute_input": "2022-07-31T14:38:36.272678Z",
     "iopub.status.busy": "2022-07-31T14:38:36.271443Z",
     "iopub.status.idle": "2022-07-31T14:38:36.441910Z",
     "shell.execute_reply": "2022-07-31T14:38:36.440688Z"
    },
    "papermill": {
     "duration": 1.39641,
     "end_time": "2022-07-31T14:38:36.444272",
     "exception": false,
     "start_time": "2022-07-31T14:38:35.047862",
     "status": "completed"
    },
    "tags": []
   },
   "outputs": [
    {
     "data": {
      "image/png": "[encoded data removed]",
      "text/plain": [
       "<Figure size 432x288 with 1 Axes>"
      ]
     },
     "metadata": {
      "needs_background": "light"
     },
     "output_type": "display_data"
    }
   ],
   "source": [
    "plt.plot(history.history['val_loss'])\n",
    "plt.plot(history.history['loss'])\n",
    "plt.title(\"loss\")\n",
    "plt.xlabel('Epochs')\n",
    "plt.ylabel(\"loss\")\n",
    "plt.legend(['val_loss', 'loss'])\n",
    "plt.show()"
   ]
  },
  {
   "cell_type": "code",
   "execution_count": 29,
   "id": "06798be7",
   "metadata": {
    "execution": {
     "iopub.execute_input": "2022-07-31T14:38:38.838876Z",
     "iopub.status.busy": "2022-07-31T14:38:38.838091Z",
     "iopub.status.idle": "2022-07-31T14:38:39.152012Z",
     "shell.execute_reply": "2022-07-31T14:38:39.150881Z"
    },
    "papermill": {
     "duration": 1.532054,
     "end_time": "2022-07-31T14:38:39.154680",
     "exception": false,
     "start_time": "2022-07-31T14:38:37.622626",
     "status": "completed"
    },
    "tags": []
   },
   "outputs": [],
   "source": [
    "y_predict = model.predict(x_test)"
   ]
  },
  {
   "cell_type": "code",
   "execution_count": 30,
   "id": "cd0d841f",
   "metadata": {
    "execution": {
     "iopub.execute_input": "2022-07-31T14:38:41.586900Z",
     "iopub.status.busy": "2022-07-31T14:38:41.586189Z",
     "iopub.status.idle": "2022-07-31T14:38:41.593459Z",
     "shell.execute_reply": "2022-07-31T14:38:41.592501Z"
    },
    "papermill": {
     "duration": 1.227725,
     "end_time": "2022-07-31T14:38:41.596200",
     "exception": false,
     "start_time": "2022-07-31T14:38:40.368475",
     "status": "completed"
    },
    "tags": []
   },
   "outputs": [
    {
     "name": "stdout",
     "output_type": "stream",
     "text": [
      "RMSE 299.3483018465221\n"
     ]
    }
   ],
   "source": [
    "from sklearn.metrics import mean_squared_error\n",
    "\n",
    "def RMSE(y_test, y_predict): # 평균 제곱근 편차 RMSE\n",
    "    return np.sqrt(mean_squared_error(y_test, y_predict))\n",
    "print('RMSE', RMSE(y_test, y_predict))"
   ]
  },
  {
   "cell_type": "code",
   "execution_count": 31,
   "id": "14f4b16b",
   "metadata": {
    "execution": {
     "iopub.execute_input": "2022-07-31T14:38:43.956512Z",
     "iopub.status.busy": "2022-07-31T14:38:43.955822Z",
     "iopub.status.idle": "2022-07-31T14:38:53.438258Z",
     "shell.execute_reply": "2022-07-31T14:38:53.436369Z"
    },
    "papermill": {
     "duration": 10.630027,
     "end_time": "2022-07-31T14:38:53.440756",
     "exception": false,
     "start_time": "2022-07-31T14:38:42.810729",
     "status": "completed"
    },
    "tags": []
   },
   "outputs": [
    {
     "name": "stdout",
     "output_type": "stream",
     "text": [
      "RMSE 303.6417775662534\n"
     ]
    }
   ],
   "source": [
    "from sklearn.ensemble import RandomForestRegressor\n",
    "rf = RandomForestRegressor(n_estimators=100, random_state=16)\n",
    "rf.fit(x_train, y_train)\n",
    "rf_result = rf.predict(x_test)\n",
    "print('RMSE',RMSE(y_test, rf_result))"
   ]
  },
  {
   "cell_type": "code",
   "execution_count": 32,
   "id": "2b101d53",
   "metadata": {
    "execution": {
     "iopub.execute_input": "2022-07-31T14:38:55.866470Z",
     "iopub.status.busy": "2022-07-31T14:38:55.865785Z",
     "iopub.status.idle": "2022-07-31T14:38:57.852124Z",
     "shell.execute_reply": "2022-07-31T14:38:57.851250Z"
    },
    "papermill": {
     "duration": 3.197101,
     "end_time": "2022-07-31T14:38:57.854555",
     "exception": false,
     "start_time": "2022-07-31T14:38:54.657454",
     "status": "completed"
    },
    "tags": []
   },
   "outputs": [
    {
     "name": "stdout",
     "output_type": "stream",
     "text": [
      "RMSE 307.09072320247844\n"
     ]
    }
   ],
   "source": [
    "from xgboost import XGBRegressor \n",
    "xgb = XGBRegressor(n_estimators=100, random_state=16)\n",
    "xgb.fit(x_train, y_train)\n",
    "xgb_result = xgb.predict(x_test)\n",
    "print(\"RMSE\",RMSE(y_test, xgb_result))"
   ]
  },
  {
   "cell_type": "code",
   "execution_count": 33,
   "id": "a41fe1cd",
   "metadata": {
    "execution": {
     "iopub.execute_input": "2022-07-31T14:39:00.385205Z",
     "iopub.status.busy": "2022-07-31T14:39:00.384830Z",
     "iopub.status.idle": "2022-07-31T14:39:01.491289Z",
     "shell.execute_reply": "2022-07-31T14:39:01.490115Z"
    },
    "papermill": {
     "duration": 2.402425,
     "end_time": "2022-07-31T14:39:01.494024",
     "exception": false,
     "start_time": "2022-07-31T14:38:59.091599",
     "status": "completed"
    },
    "tags": []
   },
   "outputs": [
    {
     "data": {
      "text/html": [
       "<style type='text/css'>\n",
       ".datatable table.frame { margin-bottom: 0; }\n",
       ".datatable table.frame thead { border-bottom: none; }\n",
       ".datatable table.frame tr.coltypes td {  color: #FFFFFF;  line-height: 6px;  padding: 0 0.5em;}\n",
       ".datatable .bool    { background: #DDDD99; }\n",
       ".datatable .object  { background: #565656; }\n",
       ".datatable .int     { background: #5D9E5D; }\n",
       ".datatable .float   { background: #4040CC; }\n",
       ".datatable .str     { background: #CC4040; }\n",
       ".datatable .time    { background: #40CC40; }\n",
       ".datatable .row_index {  background: var(--jp-border-color3);  border-right: 1px solid var(--jp-border-color0);  color: var(--jp-ui-font-color3);  font-size: 9px;}\n",
       ".datatable .frame tbody td { text-align: left; }\n",
       ".datatable .frame tr.coltypes .row_index {  background: var(--jp-border-color0);}\n",
       ".datatable th:nth-child(2) { padding-left: 12px; }\n",
       ".datatable .hellipsis {  color: var(--jp-cell-editor-border-color);}\n",
       ".datatable .vellipsis {  background: var(--jp-layout-color0);  color: var(--jp-cell-editor-border-color);}\n",
       ".datatable .na {  color: var(--jp-cell-editor-border-color);  font-size: 80%;}\n",
       ".datatable .sp {  opacity: 0.25;}\n",
       ".datatable .footer { font-size: 9px; }\n",
       ".datatable .frame_dimensions {  background: var(--jp-border-color3);  border-top: 1px solid var(--jp-border-color0);  color: var(--jp-ui-font-color3);  display: inline-block;  opacity: 0.6;  padding: 1px 10px 1px 5px;}\n",
       "</style>\n"
      ],
      "text/plain": [
       "<IPython.core.display.HTML object>"
      ]
     },
     "metadata": {},
     "output_type": "display_data"
    },
    {
     "name": "stdout",
     "output_type": "stream",
     "text": [
      "[LightGBM] [Warning] Unknown parameter: n_estimator\n",
      "RMSE 323.2746495922864\n"
     ]
    }
   ],
   "source": [
    "from lightgbm import LGBMRegressor\n",
    "lgb = LGBMRegressor(n_estimator=100, random_state=16)\n",
    "lgb.fit(x_train, y_train)\n",
    "lgb_result = lgb.predict(x_test)\n",
    "print(\"RMSE\", RMSE(y_test, lgb_result))"
   ]
  },
  {
   "cell_type": "code",
   "execution_count": 34,
   "id": "873d1f94",
   "metadata": {
    "execution": {
     "iopub.execute_input": "2022-07-31T14:39:03.862942Z",
     "iopub.status.busy": "2022-07-31T14:39:03.862531Z",
     "iopub.status.idle": "2022-07-31T14:39:03.870898Z",
     "shell.execute_reply": "2022-07-31T14:39:03.869875Z"
    },
    "papermill": {
     "duration": 1.157367,
     "end_time": "2022-07-31T14:39:03.873252",
     "exception": false,
     "start_time": "2022-07-31T14:39:02.715885",
     "status": "completed"
    },
    "tags": []
   },
   "outputs": [],
   "source": [
    "xgb = pd.DataFrame(xgb_result)\n",
    "rf = pd.DataFrame(rf_result)\n",
    "dnn = pd.DataFrame(y_predict)\n",
    "lgb = pd.DataFrame(lgb_result)\n",
    "compare = pd.DataFrame(y_test).reset_index(drop=True)"
   ]
  },
  {
   "cell_type": "code",
   "execution_count": 35,
   "id": "d006c478",
   "metadata": {
    "execution": {
     "iopub.execute_input": "2022-07-31T14:39:06.295987Z",
     "iopub.status.busy": "2022-07-31T14:39:06.295576Z",
     "iopub.status.idle": "2022-07-31T14:39:06.310991Z",
     "shell.execute_reply": "2022-07-31T14:39:06.309844Z"
    },
    "papermill": {
     "duration": 1.225162,
     "end_time": "2022-07-31T14:39:06.313350",
     "exception": false,
     "start_time": "2022-07-31T14:39:05.088188",
     "status": "completed"
    },
    "tags": []
   },
   "outputs": [
    {
     "data": {
      "text/html": [
       "<div>\n",
       "<style scoped>\n",
       "    .dataframe tbody tr th:only-of-type {\n",
       "        vertical-align: middle;\n",
       "    }\n",
       "\n",
       "    .dataframe tbody tr th {\n",
       "        vertical-align: top;\n",
       "    }\n",
       "\n",
       "    .dataframe thead th {\n",
       "        text-align: right;\n",
       "    }\n",
       "</style>\n",
       "<table border=\"1\" class=\"dataframe\">\n",
       "  <thead>\n",
       "    <tr style=\"text-align: right;\">\n",
       "      <th></th>\n",
       "      <th>cnt</th>\n",
       "      <th>xgb</th>\n",
       "      <th>rf</th>\n",
       "      <th>dnn</th>\n",
       "      <th>lgb</th>\n",
       "    </tr>\n",
       "  </thead>\n",
       "  <tbody>\n",
       "    <tr>\n",
       "      <th>0</th>\n",
       "      <td>1885</td>\n",
       "      <td>1803.070923</td>\n",
       "      <td>1700.24</td>\n",
       "      <td>2119.995361</td>\n",
       "      <td>1830.345197</td>\n",
       "    </tr>\n",
       "    <tr>\n",
       "      <th>1</th>\n",
       "      <td>2175</td>\n",
       "      <td>2228.828125</td>\n",
       "      <td>1803.82</td>\n",
       "      <td>2308.563721</td>\n",
       "      <td>2133.296789</td>\n",
       "    </tr>\n",
       "    <tr>\n",
       "      <th>2</th>\n",
       "      <td>2485</td>\n",
       "      <td>2598.814697</td>\n",
       "      <td>2191.37</td>\n",
       "      <td>2528.852783</td>\n",
       "      <td>2590.899050</td>\n",
       "    </tr>\n",
       "    <tr>\n",
       "      <th>3</th>\n",
       "      <td>2882</td>\n",
       "      <td>2683.149658</td>\n",
       "      <td>2206.67</td>\n",
       "      <td>2402.080811</td>\n",
       "      <td>2613.783086</td>\n",
       "    </tr>\n",
       "    <tr>\n",
       "      <th>4</th>\n",
       "      <td>2965</td>\n",
       "      <td>2590.693848</td>\n",
       "      <td>2276.35</td>\n",
       "      <td>2385.140381</td>\n",
       "      <td>2306.341169</td>\n",
       "    </tr>\n",
       "  </tbody>\n",
       "</table>\n",
       "</div>"
      ],
      "text/plain": [
       "    cnt          xgb       rf          dnn          lgb\n",
       "0  1885  1803.070923  1700.24  2119.995361  1830.345197\n",
       "1  2175  2228.828125  1803.82  2308.563721  2133.296789\n",
       "2  2485  2598.814697  2191.37  2528.852783  2590.899050\n",
       "3  2882  2683.149658  2206.67  2402.080811  2613.783086\n",
       "4  2965  2590.693848  2276.35  2385.140381  2306.341169"
      ]
     },
     "execution_count": 35,
     "metadata": {},
     "output_type": "execute_result"
    }
   ],
   "source": [
    "compare['xgb'] = xgb\n",
    "compare['rf'] = rf\n",
    "compare['dnn'] = dnn\n",
    "compare['lgb'] = lgb\n",
    "compare.head()"
   ]
  },
  {
   "cell_type": "code",
   "execution_count": 36,
   "id": "6e18f151",
   "metadata": {
    "execution": {
     "iopub.execute_input": "2022-07-31T14:39:08.679733Z",
     "iopub.status.busy": "2022-07-31T14:39:08.679344Z",
     "iopub.status.idle": "2022-07-31T14:39:08.975282Z",
     "shell.execute_reply": "2022-07-31T14:39:08.974130Z"
    },
    "papermill": {
     "duration": 1.448727,
     "end_time": "2022-07-31T14:39:08.977715",
     "exception": false,
     "start_time": "2022-07-31T14:39:07.528988",
     "status": "completed"
    },
    "tags": []
   },
   "outputs": [
    {
     "data": {
      "text/plain": [
       "<AxesSubplot:xlabel='cnt', ylabel='Density'>"
      ]
     },
     "execution_count": 36,
     "metadata": {},
     "output_type": "execute_result"
    },
    {
     "data": {
      "image/png": "[encoded data removed]",
      "text/plain": [
       "<Figure size 432x288 with 1 Axes>"
      ]
     },
     "metadata": {
      "needs_background": "light"
     },
     "output_type": "display_data"
    }
   ],
   "source": [
    "sns.kdeplot(compare['cnt'], shade=True, color='r')\n",
    "sns.kdeplot(compare['xgb'], shade=True, color='b')\n",
    "sns.kdeplot(compare['rf'], shade=True, color='y')\n",
    "sns.kdeplot(compare['dnn'], shade=True, color='g')\n",
    "sns.kdeplot(compare['lgb'], shade=True, color='w')"
   ]
  }
 ],
 "metadata": {
  "kernelspec": {
   "display_name": "Python 3",
   "language": "python",
   "name": "python3"
  },
  "language_info": {
   "codemirror_mode": {
    "name": "ipython",
    "version": 3
   },
   "file_extension": ".py",
   "mimetype": "text/x-python",
   "name": "python",
   "nbconvert_exporter": "python",
   "pygments_lexer": "ipython3",
   "version": "3.7.12"
  },
  "papermill": {
   "default_parameters": {},
   "duration": 1047.456072,
   "end_time": "2022-07-31T14:39:13.041884",
   "environment_variables": {},
   "exception": null,
   "input_path": "__notebook__.ipynb",
   "output_path": "__notebook__.ipynb",
   "parameters": {},
   "start_time": "2022-07-31T14:21:45.585812",
   "version": "2.3.4"
  }
 },
 "nbformat": 4,
 "nbformat_minor": 5
}
