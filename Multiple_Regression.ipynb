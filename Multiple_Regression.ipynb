{
  "nbformat": 4,
  "nbformat_minor": 0,
  "metadata": {
    "colab": {
      "name": "Multiple Regression.ipynb",
      "provenance": [],
      "collapsed_sections": [],
      "authorship_tag": "ABX9TyO1zs58/3bEg8epKXMJ+rKV",
      "include_colab_link": true
    },
    "kernelspec": {
      "name": "python3",
      "display_name": "Python 3"
    },
    "language_info": {
      "name": "python"
    }
  },
  "cells": [
    {
      "cell_type": "markdown",
      "metadata": {
        "id": "view-in-github",
        "colab_type": "text"
      },
      "source": [
        "<a href=\"https://colab.research.google.com/github/Pancakeisdelicious/Machine-Learning/blob/main/Multiple_Regression.ipynb\" target=\"_parent\"><img src=\"https://colab.research.google.com/assets/colab-badge.svg\" alt=\"Open In Colab\"/></a>"
      ]
    },
    {
      "cell_type": "code",
      "execution_count": 22,
      "metadata": {
        "colab": {
          "base_uri": "https://localhost:8080/",
          "height": 910
        },
        "id": "RFQVvk10xZuy",
        "outputId": "f2d78ff5-afe9-4f87-c115-af21cb88b34d"
      },
      "outputs": [
        {
          "output_type": "stream",
          "name": "stdout",
          "text": [
            "(42, 9)\n",
            "0.9903183436982124\n",
            "0.9714559911594134\n",
            "0.9999999999991097\n",
            "-144.40579242684848\n",
            "0.9896101671037343\n",
            "0.9790693977615397\n"
          ]
        },
        {
          "output_type": "display_data",
          "data": {
            "text/plain": [
              "<Figure size 432x288 with 1 Axes>"
            ],
            "image/png": "[encoded data removed]"
          },
          "metadata": {
            "needs_background": "light"
          }
        },
        {
          "output_type": "stream",
          "name": "stdout",
          "text": [
            "0.9903815817570366\n",
            "0.9827976465386926\n",
            "0.989789897208096\n",
            "0.9800593698421883\n"
          ]
        },
        {
          "output_type": "stream",
          "name": "stderr",
          "text": [
            "/usr/local/lib/python3.7/dist-packages/sklearn/linear_model/_coordinate_descent.py:648: ConvergenceWarning: Objective did not converge. You might want to increase the number of iterations, check the scale of the features or consider increasing regularisation. Duality gap: 2.336e+04, tolerance: 5.183e+02\n",
            "  coef_, l1_reg, l2_reg, X, y, max_iter, tol, rng, random, positive\n",
            "/usr/local/lib/python3.7/dist-packages/sklearn/linear_model/_coordinate_descent.py:648: ConvergenceWarning: Objective did not converge. You might want to increase the number of iterations, check the scale of the features or consider increasing regularisation. Duality gap: 2.025e+04, tolerance: 5.183e+02\n",
            "  coef_, l1_reg, l2_reg, X, y, max_iter, tol, rng, random, positive\n",
            "/usr/local/lib/python3.7/dist-packages/sklearn/linear_model/_coordinate_descent.py:648: ConvergenceWarning: Objective did not converge. You might want to increase the number of iterations, check the scale of the features or consider increasing regularisation. Duality gap: 8.062e+02, tolerance: 5.183e+02\n",
            "  coef_, l1_reg, l2_reg, X, y, max_iter, tol, rng, random, positive\n"
          ]
        },
        {
          "output_type": "display_data",
          "data": {
            "text/plain": [
              "<Figure size 432x288 with 1 Axes>"
            ],
            "image/png": "[encoded data removed]"
          },
          "metadata": {
            "needs_background": "light"
          }
        },
        {
          "output_type": "stream",
          "name": "stdout",
          "text": [
            "0.9888067471131867\n",
            "0.9824470598706695\n"
          ]
        }
      ],
      "source": [
        "import pandas as pd\n",
        "df = pd.read_csv('https://bit.ly/perch_csv_data')\n",
        "perch_full = df.to_numpy()\n",
        "#print(perch_full)\n",
        "\n",
        "\n",
        "import numpy as np\n",
        "perch_weight = np.array([5.9, 32.0, 40.0, 51.5, 70.0, 100.0, 78.0, 80.0, 85.0, 85.0, 110.0,\n",
        "       115.0, 125.0, 130.0, 120.0, 120.0, 130.0, 135.0, 110.0, 130.0,\n",
        "       150.0, 145.0, 150.0, 170.0, 225.0, 145.0, 188.0, 180.0, 197.0,\n",
        "       218.0, 300.0, 260.0, 265.0, 250.0, 250.0, 300.0, 320.0, 514.0,\n",
        "       556.0, 840.0, 685.0, 700.0, 700.0, 690.0, 900.0, 650.0, 820.0,\n",
        "       850.0, 900.0, 1015.0, 820.0, 1100.0, 1000.0, 1100.0, 1000.0,\n",
        "       1000.0])\n",
        "\n",
        "\n",
        "from sklearn.model_selection import train_test_split\n",
        "train_input, test_input, train_target, test_target = train_test_split(\n",
        "    perch_full, perch_weight, random_state=42)\n",
        "\n",
        "\n",
        "## 사이킷런의 변환기\n",
        "# degree = 2\n",
        "#poly.fit([[2,3]])  # 2개의 특성 2와 3으로 이루어진 샘플 \n",
        "\n",
        "# 1(bias), 2, 3, 2**2, 2*3, 3*2(1,2,3,4,6,9) \n",
        "#print(poly.transform([[2,3]])) # 훈련-> 변환\n",
        "from sklearn.preprocessing import PolynomialFeatures\n",
        "poly = PolynomialFeatures(include_bias = False)\n",
        "poly.fit(train_input)\n",
        "train_poly = poly.transform(train_input)\n",
        "print(train_poly.shape) # 9개의 특성 \n",
        "poly.get_feature_names_out()\n",
        "\n",
        "test_poly = poly.transform(test_input) # 테스트 세트 변환\n",
        "\n",
        "from sklearn.linear_model import LinearRegression\n",
        "lr = LinearRegression()\n",
        "lr.fit(train_poly, train_target)\n",
        "\n",
        "print(lr.score(train_poly, train_target)) # 0.9903183436982124\n",
        "print(lr.score(test_poly, test_target))   # 0.9714559911594134\n",
        "\n",
        "## 더 많은 특성 만들기\n",
        "poly = PolynomialFeatures(degree = 5, include_bias = False)\n",
        "poly.fit(train_input)\n",
        "train_poly = poly.transform(train_input) # 훈련 데이터\n",
        "test_poly = poly.transform(test_input)   # 검증 데이터\n",
        "lr.fit(train_poly, train_target)\n",
        "print(lr.score(train_poly, train_target)) # 0.9999999999991097\n",
        "print(lr.score(test_poly, test_target)) # -144.40579242684848\n",
        "\n",
        "## 규제(과도 학습을 규제함, 모델이 훈련 세트에 과대적합이 되지 않도록 만듬)\n",
        "from sklearn.preprocessing import StandardScaler\n",
        "ss = StandardScaler()\n",
        "ss.fit(train_poly)\n",
        "train_scaled = ss.transform(train_poly)\n",
        "test_scaled = ss.transform(test_poly)\n",
        "\n",
        "\n",
        "## 릿지 회귀(선형 회귀 모델에 규제를 추가한 모델, 릿지)\n",
        "from sklearn.linear_model import Ridge\n",
        "ridge = Ridge()\n",
        "ridge.fit(train_scaled, train_target)\n",
        "print(ridge.score(train_scaled, train_target))# 0.9896101671037343\n",
        "print(ridge.score(test_scaled, test_target))  # 0.9790693977615397\n",
        "\n",
        "\n",
        "\n",
        "## 릿지 적절한 규제 강도 찾기(alpha, 값이 커지면 계수 값 감소-> 과소적합 되도록 유도, 값이 작아지면 과대적합)\n",
        "import matplotlib.pyplot as plt\n",
        "train_score = []\n",
        "test_score = []\n",
        "\n",
        "alpha_list = [0.001, 0.01, 0.1, 1, 10, 100]\n",
        "for alpha in alpha_list:\n",
        "  ridge = Ridge(alpha=  alpha) # 릿지 모델 만듬\n",
        "  ridge.fit(train_scaled, train_target) # 릿지 모델 훈련\n",
        "  train_score.append(ridge.score(train_scaled, train_target))  # 훈련 점수, 테스트 점수 저장\n",
        "  test_score.append(ridge.score(test_scaled, test_target))\n",
        "\n",
        "plt.plot(np.log10(alpha_list), train_score)\n",
        "plt.plot(np.log10(alpha_list), test_score)\n",
        "plt.xlabel('alpha')\n",
        "plt.ylabel('R^2')\n",
        "plt.show()  # 파란색이 훈련 세트, 노란색이 테스트 세트(과대적합, 최적 알파 값 -1)\n",
        "\n",
        "ridge = Ridge(alpha = 0.1) \n",
        "ridge.fit(train_scaled, train_target)\n",
        "print(ridge.score(train_scaled, train_target)) # 0.9903815817570366\n",
        "print(ridge.score(test_scaled, test_target))   # 0.9827976465386926\n",
        "\n",
        "\n",
        "## 라쏘 회귀\n",
        "from sklearn.linear_model import Lasso\n",
        "lasso = Lasso()\n",
        "lasso.fit(train_scaled, train_target)\n",
        "print(lasso.score(train_scaled, train_target)) # 0.989789897208096\n",
        "print(lasso.score(test_scaled, test_target))   # 0.9800593698421883\n",
        "\n",
        "train_score = []\n",
        "test_score = []\n",
        "alpha_list = [0.001, 0.01, 0.1, 1, 10, 100]\n",
        "for alpha in alpha_list:\n",
        "  lasso = Lasso(alpha=  alpha) # 라쏘 모델 만듬\n",
        "  lasso.fit(train_scaled, train_target) # 라쏘 모델 훈련\n",
        "  train_score.append(lasso.score(train_scaled, train_target))  # 훈련 점수, 테스트 점수 저장\n",
        "  test_score.append(lasso.score(test_scaled, test_target))\n",
        "\n",
        "plt.plot(np.log10(alpha_list), train_score)\n",
        "plt.plot(np.log10(alpha_list), test_score)\n",
        "plt.xlabel('alpha')\n",
        "plt.ylabel('R^2')\n",
        "plt.show()  # 파란색이 훈련 세트, 노란색이 테스트 세트(최적 alpha값은 1)\n",
        "\n",
        "lasso = Lasso(alpha = 10) \n",
        "lasso.fit(train_scaled, train_target)\n",
        "print(lasso.score(train_scaled, train_target)) # 0.9888067471131867\n",
        "print(lasso.score(test_scaled, test_target))   # 0.9824470598706695\n",
        "\n",
        "\n",
        "# 라쏘 모델의 계수는 coef에 저장 \n",
        "print(np.sum(lasso.coef_ == 0)) # 40 \n",
        "\n",
        "\n",
        "\n",
        "\n"
      ]
    },
    {
      "cell_type": "code",
      "source": [
        ""
      ],
      "metadata": {
        "id": "pS3xOD2a7IJW"
      },
      "execution_count": null,
      "outputs": []
    }
  ]
}